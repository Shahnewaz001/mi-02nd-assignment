{
 "cells": [
  {
   "cell_type": "code",
   "execution_count": 1,
   "id": "0d4aee8b",
   "metadata": {},
   "outputs": [],
   "source": [
    "#n0-1\n",
    "def swap_variable(a,b):\n",
    "    temp=a\n",
    "    a=b\n",
    "    b=temp\n",
    "    return a,b"
   ]
  },
  {
   "cell_type": "code",
   "execution_count": 2,
   "id": "ffc85152",
   "metadata": {},
   "outputs": [
    {
     "data": {
      "text/plain": [
       "(6, 5)"
      ]
     },
     "execution_count": 2,
     "metadata": {},
     "output_type": "execute_result"
    }
   ],
   "source": [
    "swap_variable(5,6)\n",
    "             "
   ]
  },
  {
   "cell_type": "code",
   "execution_count": 3,
   "id": "6fe0e126",
   "metadata": {},
   "outputs": [],
   "source": [
    "#no-02\n",
    "def calculate_rectangle(length,width):\n",
    "    area = length * width\n",
    "    return area"
   ]
  },
  {
   "cell_type": "code",
   "execution_count": 4,
   "id": "2bd5b156",
   "metadata": {},
   "outputs": [
    {
     "data": {
      "text/plain": [
       "20"
      ]
     },
     "execution_count": 4,
     "metadata": {},
     "output_type": "execute_result"
    }
   ],
   "source": [
    "calculate_rectangle(4,5)"
   ]
  },
  {
   "cell_type": "code",
   "execution_count": 5,
   "id": "af1354d1",
   "metadata": {},
   "outputs": [],
   "source": [
    "#no-03\n",
    "def fahrenheit_to_celcius(f):\n",
    "    celcius = (f-32)*5/9\n",
    "    return celcius"
   ]
  },
  {
   "cell_type": "code",
   "execution_count": 6,
   "id": "94509aba",
   "metadata": {},
   "outputs": [
    {
     "data": {
      "text/plain": [
       "37.22222222222222"
      ]
     },
     "execution_count": 6,
     "metadata": {},
     "output_type": "execute_result"
    }
   ],
   "source": [
    "fahrenheit_to_celcius(99)"
   ]
  },
  {
   "cell_type": "code",
   "execution_count": 7,
   "id": "8f29624c",
   "metadata": {},
   "outputs": [],
   "source": [
    "#no-04\n",
    "def calculate_sphere_volume(radius):\n",
    "    volume=(4/3)*3.1412*(radius**3)\n",
    "    return volume"
   ]
  },
  {
   "cell_type": "code",
   "execution_count": 8,
   "id": "19211eab",
   "metadata": {},
   "outputs": [
    {
     "data": {
      "text/plain": [
       "113.08319999999999"
      ]
     },
     "execution_count": 8,
     "metadata": {},
     "output_type": "execute_result"
    }
   ],
   "source": [
    "calculate_sphere_volume(3)"
   ]
  },
  {
   "cell_type": "code",
   "execution_count": 9,
   "id": "04d58dc4",
   "metadata": {},
   "outputs": [],
   "source": [
    "#no-05\n",
    "def average_three_numbers(num1,num2,num3):\n",
    "    average = num1+num2+num3\n",
    "    return average"
   ]
  },
  {
   "cell_type": "code",
   "execution_count": 10,
   "id": "ffd65f0b",
   "metadata": {},
   "outputs": [
    {
     "data": {
      "text/plain": [
       "9"
      ]
     },
     "execution_count": 10,
     "metadata": {},
     "output_type": "execute_result"
    }
   ],
   "source": [
    "average_three_numbers(2,3,4)"
   ]
  },
  {
   "cell_type": "code",
   "execution_count": 11,
   "id": "00300aaf",
   "metadata": {},
   "outputs": [],
   "source": [
    "#no-06\n",
    "def even_odd(number):\n",
    "    if number%2==0:\n",
    "        return \"even\"\n",
    "    else:\n",
    "        return \"odd\""
   ]
  },
  {
   "cell_type": "code",
   "execution_count": 12,
   "id": "a593a606",
   "metadata": {},
   "outputs": [
    {
     "data": {
      "text/plain": [
       "'even'"
      ]
     },
     "execution_count": 12,
     "metadata": {},
     "output_type": "execute_result"
    }
   ],
   "source": [
    "even_odd(10)"
   ]
  },
  {
   "cell_type": "code",
   "execution_count": 13,
   "id": "b8ea67bc",
   "metadata": {},
   "outputs": [
    {
     "data": {
      "text/plain": [
       "'odd'"
      ]
     },
     "execution_count": 13,
     "metadata": {},
     "output_type": "execute_result"
    }
   ],
   "source": [
    "even_odd(9)"
   ]
  },
  {
   "cell_type": "code",
   "execution_count": 14,
   "id": "e2415c8e",
   "metadata": {},
   "outputs": [],
   "source": [
    "#no-07\n",
    "def maximum_numbers(num1,num2,num3):\n",
    "    if num1 >= num2 and num1 >= num3:\n",
    "        return num1\n",
    "    elif num2 >= num1 and num2 >= num3:\n",
    "        return num2\n",
    "    else:\n",
    "        return num3"
   ]
  },
  {
   "cell_type": "code",
   "execution_count": 15,
   "id": "e46a6cc3",
   "metadata": {},
   "outputs": [
    {
     "data": {
      "text/plain": [
       "54"
      ]
     },
     "execution_count": 15,
     "metadata": {},
     "output_type": "execute_result"
    }
   ],
   "source": [
    "maximum_numbers(32,54,32)"
   ]
  },
  {
   "cell_type": "code",
   "execution_count": 16,
   "id": "b44eb33d",
   "metadata": {},
   "outputs": [],
   "source": [
    "#no-08\n",
    "def leap_year(year):\n",
    "    if (year % 4 == 0 and year % 100 != 0) or (year % 400 == 0):\n",
    "        print(\"leap year\")\n",
    "    else:\n",
    "        print(\"not leap year\")"
   ]
  },
  {
   "cell_type": "code",
   "execution_count": 17,
   "id": "fcc486e7",
   "metadata": {},
   "outputs": [
    {
     "name": "stdout",
     "output_type": "stream",
     "text": [
      "leap year\n"
     ]
    }
   ],
   "source": [
    "leap_year(2024)"
   ]
  },
  {
   "cell_type": "code",
   "execution_count": 18,
   "id": "6777b0c6",
   "metadata": {},
   "outputs": [
    {
     "name": "stdout",
     "output_type": "stream",
     "text": [
      "not leap year\n"
     ]
    }
   ],
   "source": [
    "leap_year(2025)"
   ]
  },
  {
   "cell_type": "code",
   "execution_count": 19,
   "id": "f2c153d3",
   "metadata": {},
   "outputs": [],
   "source": [
    "#no-09\n",
    "def check_numbers(number):\n",
    "    if (number>0):\n",
    "        print(\"positive\")\n",
    "    elif (number<0):\n",
    "        print(\"negative\")\n",
    "    else:\n",
    "        print(\"zero\")"
   ]
  },
  {
   "cell_type": "code",
   "execution_count": 20,
   "id": "46860c7b",
   "metadata": {},
   "outputs": [
    {
     "name": "stdout",
     "output_type": "stream",
     "text": [
      "positive\n"
     ]
    }
   ],
   "source": [
    "check_numbers(4)"
   ]
  },
  {
   "cell_type": "code",
   "execution_count": 21,
   "id": "06974de0",
   "metadata": {},
   "outputs": [
    {
     "name": "stdout",
     "output_type": "stream",
     "text": [
      "negative\n"
     ]
    }
   ],
   "source": [
    "check_numbers(-5)"
   ]
  },
  {
   "cell_type": "code",
   "execution_count": 22,
   "id": "f95f56b6",
   "metadata": {},
   "outputs": [
    {
     "name": "stdout",
     "output_type": "stream",
     "text": [
      "zero\n"
     ]
    }
   ],
   "source": [
    "check_numbers(0)"
   ]
  },
  {
   "cell_type": "code",
   "execution_count": 23,
   "id": "5de045b1",
   "metadata": {},
   "outputs": [],
   "source": [
    "#no-10\n",
    "def calculate_grade(percentage):\n",
    "    if(percentage>=80):\n",
    "        print(\"A+\")\n",
    "    elif(percentage>=70):\n",
    "        print(\"A\")\n",
    "    elif(percentage>=60):\n",
    "        print(\"A-\")\n",
    "    elif(percentage>=50):\n",
    "        print(\"B\")\n",
    "    elif(percentage>=40):\n",
    "        print(\"c\")\n",
    "    else:\n",
    "        print(\"fail\")"
   ]
  },
  {
   "cell_type": "code",
   "execution_count": 24,
   "id": "4fb4507e",
   "metadata": {},
   "outputs": [
    {
     "name": "stdout",
     "output_type": "stream",
     "text": [
      "B\n"
     ]
    }
   ],
   "source": [
    "calculate_grade(54)"
   ]
  },
  {
   "cell_type": "code",
   "execution_count": 25,
   "id": "86af85d0",
   "metadata": {},
   "outputs": [
    {
     "name": "stdout",
     "output_type": "stream",
     "text": [
      "fail\n"
     ]
    }
   ],
   "source": [
    "calculate_grade(20)"
   ]
  },
  {
   "cell_type": "code",
   "execution_count": 26,
   "id": "518b2b26",
   "metadata": {},
   "outputs": [],
   "source": [
    "#n0-11\n",
    "def natural_numbers(n):\n",
    "    for i in range(1, n):\n",
    "        print(i)"
   ]
  },
  {
   "cell_type": "code",
   "execution_count": 27,
   "id": "c141809c",
   "metadata": {},
   "outputs": [
    {
     "name": "stdout",
     "output_type": "stream",
     "text": [
      "1\n",
      "2\n",
      "3\n",
      "4\n",
      "5\n",
      "6\n",
      "7\n",
      "8\n"
     ]
    }
   ],
   "source": [
    "natural_numbers(9)"
   ]
  },
  {
   "cell_type": "code",
   "execution_count": 28,
   "id": "094cf550",
   "metadata": {},
   "outputs": [],
   "source": [
    "#no-12\n",
    "def factorial_numbers(n):\n",
    "    factorial = 1\n",
    "    for i in range(1, n+1):\n",
    "        factorial = factorial*i\n",
    "    return factorial"
   ]
  },
  {
   "cell_type": "code",
   "execution_count": 29,
   "id": "acb4f0dd",
   "metadata": {},
   "outputs": [
    {
     "data": {
      "text/plain": [
       "40320"
      ]
     },
     "execution_count": 29,
     "metadata": {},
     "output_type": "execute_result"
    }
   ],
   "source": [
    "factorial_numbers(8)"
   ]
  },
  {
   "cell_type": "code",
   "execution_count": 30,
   "id": "3d0c6870",
   "metadata": {},
   "outputs": [
    {
     "data": {
      "text/plain": [
       "6"
      ]
     },
     "execution_count": 30,
     "metadata": {},
     "output_type": "execute_result"
    }
   ],
   "source": [
    "factorial_numbers(3)"
   ]
  },
  {
   "cell_type": "code",
   "execution_count": 31,
   "id": "e042f105",
   "metadata": {},
   "outputs": [],
   "source": [
    "#no-13\n",
    "def generate_fibonacci(n):\n",
    "    fibonacci_sequence = [0,1]\n",
    "    for i in range(2, n+1):\n",
    "        fibonacci =fibonacci_sequence [-1]+fibonacci_sequence[-2]\n",
    "        fibonacci_sequence.append(fibonacci)\n",
    "    return fibonacci_sequence"
   ]
  },
  {
   "cell_type": "code",
   "execution_count": 32,
   "id": "82491de9",
   "metadata": {},
   "outputs": [
    {
     "data": {
      "text/plain": [
       "[0, 1, 1, 2, 3, 5]"
      ]
     },
     "execution_count": 32,
     "metadata": {},
     "output_type": "execute_result"
    }
   ],
   "source": [
    "generate_fibonacci(5)"
   ]
  },
  {
   "cell_type": "code",
   "execution_count": 33,
   "id": "e027c917",
   "metadata": {},
   "outputs": [],
   "source": [
    "#no-14\n",
    "def prime_number(num):\n",
    "    if num <= 1:\n",
    "        return False\n",
    "    for i in range(2, int(num**0.5) + 1):\n",
    "        if num % i == 0:\n",
    "            return False\n",
    "    return True"
   ]
  },
  {
   "cell_type": "code",
   "execution_count": 34,
   "id": "82deea5d",
   "metadata": {},
   "outputs": [
    {
     "data": {
      "text/plain": [
       "False"
      ]
     },
     "execution_count": 34,
     "metadata": {},
     "output_type": "execute_result"
    }
   ],
   "source": [
    "prime_number(4)"
   ]
  },
  {
   "cell_type": "code",
   "execution_count": 35,
   "id": "a65d85cd",
   "metadata": {},
   "outputs": [
    {
     "data": {
      "text/plain": [
       "True"
      ]
     },
     "execution_count": 35,
     "metadata": {},
     "output_type": "execute_result"
    }
   ],
   "source": [
    "prime_number(5)"
   ]
  },
  {
   "cell_type": "code",
   "execution_count": 36,
   "id": "6fe595c4",
   "metadata": {},
   "outputs": [],
   "source": [
    "#n0-15\n",
    "def print_multiplication_table(number):\n",
    "    for i in range(1, 11):\n",
    "        product = number * i\n",
    "        print(f\"{number} x {i} = {product}\")\n"
   ]
  },
  {
   "cell_type": "code",
   "execution_count": 37,
   "id": "b235d32c",
   "metadata": {},
   "outputs": [
    {
     "name": "stdout",
     "output_type": "stream",
     "text": [
      "7 x 1 = 7\n",
      "7 x 2 = 14\n",
      "7 x 3 = 21\n",
      "7 x 4 = 28\n",
      "7 x 5 = 35\n",
      "7 x 6 = 42\n",
      "7 x 7 = 49\n",
      "7 x 8 = 56\n",
      "7 x 9 = 63\n",
      "7 x 10 = 70\n"
     ]
    }
   ],
   "source": [
    "print_multiplication_table(7)"
   ]
  },
  {
   "cell_type": "code",
   "execution_count": 38,
   "id": "bd1187a0",
   "metadata": {},
   "outputs": [
    {
     "name": "stdout",
     "output_type": "stream",
     "text": [
      "2\n",
      "6\n",
      "12\n",
      "20\n",
      "30\n"
     ]
    }
   ],
   "source": [
    "#n0-16\n",
    "n = 10\n",
    "sum_of_even_numbers = 0\n",
    "i = 2\n",
    "while i <= n:\n",
    "      if i % 2 == 0:\n",
    "        sum_of_even_numbers += i\n",
    "        print(sum_of_even_numbers)\n",
    "        i += 2"
   ]
  },
  {
   "cell_type": "code",
   "execution_count": 39,
   "id": "f5e0459f",
   "metadata": {},
   "outputs": [
    {
     "name": "stdout",
     "output_type": "stream",
     "text": [
      "enter a number3456\n",
      "6\n",
      "11\n",
      "15\n",
      "18\n"
     ]
    }
   ],
   "source": [
    "#n0=17\n",
    "x = int(input(\"enter a number\"))\n",
    "t=0\n",
    "while x>0:\n",
    "    r=x%10\n",
    "    #print(r)\n",
    "    t = t+r\n",
    "    print(t)\n",
    "    x = x//10\n",
    "    "
   ]
  },
  {
   "cell_type": "code",
   "execution_count": 47,
   "id": "02697f55",
   "metadata": {},
   "outputs": [],
   "source": [
    "#no-18\n",
    "def is_palindrome(text):\n",
    "    length = len(text)\n",
    "    for i in range(0, length//2):\n",
    "        if (text[i] != text[length - i -1]):\n",
    "            return False\n",
    "    return True\n",
    "string = \"sakib\""
   ]
  },
  {
   "cell_type": "code",
   "execution_count": 50,
   "id": "84638417",
   "metadata": {},
   "outputs": [
    {
     "data": {
      "text/plain": [
       "False"
      ]
     },
     "execution_count": 50,
     "metadata": {},
     "output_type": "execute_result"
    }
   ],
   "source": [
    "is_palindrome(string)"
   ]
  },
  {
   "cell_type": "code",
   "execution_count": 53,
   "id": "97900ebe",
   "metadata": {},
   "outputs": [
    {
     "ename": "AttributeError",
     "evalue": "module 'random' has no attribute 'radiant'",
     "output_type": "error",
     "traceback": [
      "\u001b[1;31m---------------------------------------------------------------------------\u001b[0m",
      "\u001b[1;31mAttributeError\u001b[0m                            Traceback (most recent call last)",
      "Cell \u001b[1;32mIn[53], line 3\u001b[0m\n\u001b[0;32m      1\u001b[0m \u001b[38;5;66;03m#no-19\u001b[39;00m\n\u001b[0;32m      2\u001b[0m \u001b[38;5;28;01mimport\u001b[39;00m \u001b[38;5;21;01mrandom\u001b[39;00m\n\u001b[1;32m----> 3\u001b[0m number \u001b[38;5;241m=\u001b[39m random\u001b[38;5;241m.\u001b[39mradiant(\u001b[38;5;241m1\u001b[39m,\u001b[38;5;241m100\u001b[39m)\n\u001b[0;32m      4\u001b[0m guess \u001b[38;5;241m=\u001b[39m \u001b[38;5;241m0\u001b[39m\n\u001b[0;32m      5\u001b[0m \u001b[38;5;28;01mwhile\u001b[39;00m guess \u001b[38;5;241m!=\u001b[39m number:\n",
      "\u001b[1;31mAttributeError\u001b[0m: module 'random' has no attribute 'radiant'"
     ]
    }
   ],
   "source": [
    "#no-19\n",
    "import random\n",
    "number = random.radiant(1,100)\n",
    "guess = 0\n",
    "while guess != number:\n",
    "    guess = int(input(\"either guess\"))\n",
    "    \n",
    "    if(guess<number):\n",
    "        print(\"guess heigher\")\n",
    "    elif(guess>number):\n",
    "        print(\"guess lower\")\n",
    "    else:\n",
    "        print(\"you won\")"
   ]
  },
  {
   "cell_type": "code",
   "execution_count": null,
   "id": "19e5551b",
   "metadata": {},
   "outputs": [],
   "source": []
  }
 ],
 "metadata": {
  "kernelspec": {
   "display_name": "Python 3 (ipykernel)",
   "language": "python",
   "name": "python3"
  },
  "language_info": {
   "codemirror_mode": {
    "name": "ipython",
    "version": 3
   },
   "file_extension": ".py",
   "mimetype": "text/x-python",
   "name": "python",
   "nbconvert_exporter": "python",
   "pygments_lexer": "ipython3",
   "version": "3.11.5"
  }
 },
 "nbformat": 4,
 "nbformat_minor": 5
}
